{
 "cells": [
  {
   "cell_type": "code",
   "execution_count": 7,
   "metadata": {},
   "outputs": [
    {
     "name": "stdout",
     "output_type": "stream",
     "text": [
      "(1, 1, 1)\n",
      "(1, 1, 0)\n",
      "(1, 1, 2)\n",
      "(1, 0, 1)\n",
      "(1, 0, 0)\n",
      "(1, 0, 2)\n",
      "(1, 2, 1)\n",
      "(1, 2, 0)\n",
      "(1, 2, 2)\n",
      "(0, 1, 1)\n",
      "(0, 1, 0)\n",
      "(0, 1, 2)\n",
      "(0, 0, 1)\n",
      "(0, 0, 0)\n",
      "(0, 0, 2)\n",
      "(0, 2, 1)\n",
      "(0, 2, 0)\n",
      "(0, 2, 2)\n",
      "(2, 1, 1)\n",
      "(2, 1, 0)\n",
      "(2, 1, 2)\n",
      "(2, 0, 1)\n",
      "(2, 0, 0)\n",
      "(2, 0, 2)\n",
      "(2, 2, 1)\n",
      "(2, 2, 0)\n",
      "(2, 2, 2)\n"
     ]
    }
   ],
   "source": [
    "import itertools\n",
    "\n",
    "# 定义输入元素\n",
    "elements = [1, 0, 2]\n",
    "\n",
    "# 获取长度为 3 的所有组合\n",
    "result = list(itertools.product(elements, repeat=3))\n",
    "\n",
    "# 打印结果\n",
    "for item in result:\n",
    "    print(item)"
   ]
  },
  {
   "cell_type": "code",
   "execution_count": 5,
   "metadata": {},
   "outputs": [
    {
     "data": {
      "text/plain": [
       "('EMPTY', 'EMPTY', '1-role')"
      ]
     },
     "execution_count": 5,
     "metadata": {},
     "output_type": "execute_result"
    }
   ],
   "source": []
  },
  {
   "cell_type": "markdown",
   "metadata": {},
   "source": [
    "MIN_EVAL = -1000000\n",
    "MAX_EVAL = 1000000\n",
    "\n",
    "(1, 1, 0) : [ -5,  5]\n",
    "(1, 0, 1) : [  0,  0]\n",
    "(0, 1, 1) : [ -5,  5]\n",
    "(1, 0, 0) : [  5, -5]\n",
    "(0, 1, 0) : [  0,  0]\n",
    "(0, 0, 1) : [  5, -5]\n",
    "(2, 0, 1) : [  0,  0]\n",
    "(2, 1, 0) : [  0,  0]\n",
    "(0, 2, 1) : [  0,  0]\n",
    "(1, 2, 0) : [  0,  0]\n",
    "(0, 1, 2) : [  0,  0]\n",
    "(1, 0, 2) : [  0,  0]\n",
    "(2, 2, 2) : [  0,  0]\n",
    "\n",
    "(2, 1, 1) : [-90, 45]\n",
    "(1, 2, 1) : [-90, 45]\n",
    "(1, 1, 2) : [-90, 45]\n",
    "(0, 0, 2) : [ 45,-90]\n",
    "(0, 2, 0) : [ 45,-90]\n",
    "(2, 0, 0) : [ 45,-90]\n",
    "\n",
    "(0, 2, 2) : [ 10,-10]\n",
    "(2, 0, 2) : [ 10,-10]\n",
    "(2, 2, 0) : [ 10,-10]\n",
    "(1, 2, 2) : [-10, 10]\n",
    "(2, 1, 2) : [-10, 10]\n",
    "(2, 2, 1) : [-10, 10]\n",
    "\n",
    "(1, 1, 1) : [MIN_EVAL, MAX_EVAL]\n",
    "(0, 0, 0) : [MAX_EVAL, MIN_EVAL]"
   ]
  }
 ],
 "metadata": {
  "kernelspec": {
   "display_name": "Python 3",
   "language": "python",
   "name": "python3"
  },
  "language_info": {
   "codemirror_mode": {
    "name": "ipython",
    "version": 3
   },
   "file_extension": ".py",
   "mimetype": "text/x-python",
   "name": "python",
   "nbconvert_exporter": "python",
   "pygments_lexer": "ipython3",
   "version": "3.11.2"
  }
 },
 "nbformat": 4,
 "nbformat_minor": 2
}
