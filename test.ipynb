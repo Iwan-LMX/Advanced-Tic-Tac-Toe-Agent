{
 "cells": [
  {
   "cell_type": "code",
   "execution_count": 6,
   "metadata": {},
   "outputs": [
    {
     "ename": "NameError",
     "evalue": "name 'player' is not defined",
     "output_type": "error",
     "traceback": [
      "\u001b[0;31m---------------------------------------------------------------------------\u001b[0m",
      "\u001b[0;31mNameError\u001b[0m                                 Traceback (most recent call last)",
      "Cell \u001b[0;32mIn [6], line 4\u001b[0m\n\u001b[1;32m      1\u001b[0m \u001b[38;5;28;01mimport\u001b[39;00m \u001b[38;5;21;01mitertools\u001b[39;00m\n\u001b[1;32m      3\u001b[0m \u001b[38;5;66;03m# 定义输入元素\u001b[39;00m\n\u001b[0;32m----> 4\u001b[0m elements \u001b[38;5;241m=\u001b[39m [\u001b[43mplayer\u001b[49m, \u001b[38;5;241m1\u001b[39m\u001b[38;5;241m-\u001b[39mplayer, EMPTY]\n\u001b[1;32m      6\u001b[0m \u001b[38;5;66;03m# 获取长度为 3 的所有组合\u001b[39;00m\n\u001b[1;32m      7\u001b[0m result \u001b[38;5;241m=\u001b[39m \u001b[38;5;28mlist\u001b[39m(itertools\u001b[38;5;241m.\u001b[39mproduct(elements, repeat\u001b[38;5;241m=\u001b[39m\u001b[38;5;241m3\u001b[39m))\n",
      "\u001b[0;31mNameError\u001b[0m: name 'player' is not defined"
     ]
    }
   ],
   "source": [
    "import\titertools\n",
    "\n",
    "#\t定义输入元素\n",
    "elements\t=\t['player',\t'1-player',\t'EMPTY']\n",
    "\n",
    "#\t获取长度为\t3\t的所有组合\n",
    "result\t=\tlist(itertools.product(elements,\trepeat=3))\n",
    "\n",
    "#\t打印结果\n",
    "for\titem\tin\tresult:\n",
    "\t\t\t\tprint(item)"
   ]
  },
  {
   "cell_type": "code",
   "execution_count": 5,
   "metadata": {},
   "outputs": [
    {
     "data": {
      "text/plain": [
       "('EMPTY', 'EMPTY', '1-role')"
      ]
     },
     "execution_count": 5,
     "metadata": {},
     "output_type": "execute_result"
    }
   ],
   "source": [
    "(player,\tplayer,\t    1-player)\n",
    "(player,\tplayer,\t    EMPTY)\n",
    "(player,\t1-player,\tplayer)\n",
    "(player,\t1-player,\t1-player)\n",
    "(player,\t1-player,\tEMPTY)\n",
    "(player,\tEMPTY,\t    player)\n",
    "(player,\tEMPTY,\t    1-player)\n",
    "(player,\tEMPTY,\t    EMPTY)\n",
    "(1-player,\tplayer,\t    player)\n",
    "(1-player,\tplayer,\t    1-player)\n",
    "(1-player,\tplayer,\t    EMPTY)\n",
    "(1-player,\t1-player,\tplayer)\n",
    "(1-player,\t1-player,\tEMPTY)\n",
    "(1-player,\tEMPTY,\t    player)\n",
    "(1-player,\tEMPTY,\t    1-player)\n",
    "(1-player,\tEMPTY,\t    EMPTY)\n",
    "(EMPTY,\t    player,\t    player)\n",
    "(EMPTY,\t    player,\t    1-player)\n",
    "(EMPTY,\t    player,\t    EMPTY)\n",
    "(EMPTY,\t    1-player,\tplayer)\n",
    "(EMPTY,\t    1-player,\t1-player)\n",
    "(EMPTY,\t    1-player,\tEMPTY)\n",
    "(EMPTY,\t    EMPTY,\t    player)\n",
    "(EMPTY,\t    EMPTY,\t    1-player)\n",
    "(EMPTY,\t    EMPTY,\t    EMPTY)"
   ]
  },
  {
   "cell_type": "code",
   "execution_count": null,
   "metadata": {},
   "outputs": [],
   "source": []
  }
 ],
 "metadata": {
  "kernelspec": {
   "display_name": "Python 3",
   "language": "python",
   "name": "python3"
  },
  "language_info": {
   "codemirror_mode": {
    "name": "ipython",
    "version": 3
   },
   "file_extension": ".py",
   "mimetype": "text/x-python",
   "name": "python",
   "nbconvert_exporter": "python",
   "pygments_lexer": "ipython3",
   "version": "3.11.2"
  }
 },
 "nbformat": 4,
 "nbformat_minor": 2
}
