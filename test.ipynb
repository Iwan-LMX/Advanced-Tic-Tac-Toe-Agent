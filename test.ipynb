{
 "cells": [
  {
   "cell_type": "code",
   "execution_count": 7,
   "metadata": {},
   "outputs": [
    {
     "name": "stdout",
     "output_type": "stream",
     "text": [
      "(1, 1, 1)\n",
      "(1, 1, 0)\n",
      "(1, 1, 2)\n",
      "(1, 0, 1)\n",
      "(1, 0, 0)\n",
      "(1, 0, 2)\n",
      "(1, 2, 1)\n",
      "(1, 2, 0)\n",
      "(1, 2, 2)\n",
      "(0, 1, 1)\n",
      "(0, 1, 0)\n",
      "(0, 1, 2)\n",
      "(0, 0, 1)\n",
      "(0, 0, 0)\n",
      "(0, 0, 2)\n",
      "(0, 2, 1)\n",
      "(0, 2, 0)\n",
      "(0, 2, 2)\n",
      "(2, 1, 1)\n",
      "(2, 1, 0)\n",
      "(2, 1, 2)\n",
      "(2, 0, 1)\n",
      "(2, 0, 0)\n",
      "(2, 0, 2)\n",
      "(2, 2, 1)\n",
      "(2, 2, 0)\n",
      "(2, 2, 2)\n"
     ]
    }
   ],
   "source": [
    "import itertools\n",
    "\n",
    "# 定义输入元素\n",
    "elements = [1, 0, 2]\n",
    "\n",
    "# 获取长度为 3 的所有组合\n",
    "result = list(itertools.product(elements, repeat=3))\n",
    "\n",
    "# 打印结果\n",
    "for item in result:\n",
    "    print(item)"
   ]
  },
  {
   "cell_type": "code",
   "execution_count": 5,
   "metadata": {},
   "outputs": [
    {
     "data": {
      "text/plain": [
       "('EMPTY', 'EMPTY', '1-role')"
      ]
     },
     "execution_count": 5,
     "metadata": {},
     "output_type": "execute_result"
    }
   ],
   "source": [
    "(1, 1, 0) : [-1,  1]\n",
    "(1, 1, 2) : [-2,  2]\n",
    "(1, 0, 1) : [-1,  1]\n",
    "(1, 0, 0) : [ 1, -1]\n",
    "(1, 0, 2) : [ 0,  0]\n",
    "(1, 2, 1) : [-2,  2]\n",
    "(1, 2, 0) : [ 0,  0]\n",
    "(1, 2, 2) : [-1,  1]\n",
    "(0, 1, 1) : [-1,  1]\n",
    "(0, 1, 0) : [ 1, -1]\n",
    "(0, 1, 2) : [ 0,  0]\n",
    "(0, 0, 1) : [ 1, -1]\n",
    "(0, 0, 2) : [ 2, -2]\n",
    "(0, 2, 1) : [ 0,  0]\n",
    "(0, 2, 0) : [ 2, -2]\n",
    "(0, 2, 2) : [ 1, -1]\n",
    "(2, 1, 1) : [-2,  2]\n",
    "(2, 1, 0) : [ 0,  0]\n",
    "(2, 1, 2) : [-1,  1]\n",
    "(2, 0, 1) : [ 0,  0]\n",
    "(2, 0, 0) : [ 2, -2]\n",
    "(2, 0, 2) : [ 1, -1]\n",
    "(2, 2, 1) : [-1,  1]\n",
    "(2, 2, 0) : [ 1, -1]\n",
    "(2, 2, 2) : [ 1,  1]\n",
    "(1, 1, 1) : [-1000, 1000]\n",
    "(0, 0, 0) : [1000, -1000]"
   ]
  },
  {
   "cell_type": "code",
   "execution_count": null,
   "metadata": {},
   "outputs": [],
   "source": []
  }
 ],
 "metadata": {
  "kernelspec": {
   "display_name": "Python 3",
   "language": "python",
   "name": "python3"
  },
  "language_info": {
   "codemirror_mode": {
    "name": "ipython",
    "version": 3
   },
   "file_extension": ".py",
   "mimetype": "text/x-python",
   "name": "python",
   "nbconvert_exporter": "python",
   "pygments_lexer": "ipython3",
   "version": "3.11.2"
  }
 },
 "nbformat": 4,
 "nbformat_minor": 2
}
